{
 "cells": [
  {
   "cell_type": "markdown",
   "metadata": {},
   "source": [
    "# Workshop\n",
    "Just a place for me to try out code "
   ]
  },
  {
   "cell_type": "code",
   "execution_count": 2,
   "metadata": {},
   "outputs": [],
   "source": [
    "proxies = [{'IP Address': '20.88.122.67', 'Port': '8080', 'Code': 'US', 'Country': 'United States', 'Anonymity': 'anonymous', 'Google': 'no', 'Https': 'yes', 'Last Checked': '9 secs ago'}, {'IP Address': '200.105.215.18', 'Port': '33630', 'Code': 'BO', 'Country': 'Bolivia', 'Anonymity': 'elite proxy', 'Google': 'no', 'Https': 'yes', 'Last Checked': '9 secs ago'}, {'IP Address': '139.59.126.78', 'Port': '3128', 'Code': 'SG', 'Country': 'Singapore', 'Anonymity': 'elite proxy', 'Google': 'no', 'Https': 'yes', 'Last Checked': '1 min ago'}, {'IP Address': '154.236.179.226', 'Port': '1981', 'Code': 'EG', 'Country': 'Egypt', 'Anonymity': 'anonymous', 'Google': 'yes', 'Https': 'yes', 'Last Checked': '1 min ago'}, {'IP Address': '41.60.235.216', 'Port': '34098', 'Code': 'KE', 'Country': 'Kenya', 'Anonymity': 'elite proxy', 'Google': 'no', 'Https': 'yes', 'Last Checked': '1 min ago'}, {'IP Address': '88.87.92.147', 'Port': '8118', 'Code': 'RU', 'Country': 'Russian Federation', 'Anonymity': 'elite proxy', 'Google': 'no', 'Https': 'yes', 'Last Checked': '1 min ago'}, {'IP Address': '188.156.240.240', 'Port': '8118', 'Code': 'HU', 'Country': 'Hungary', 'Anonymity': 'elite proxy', 'Google': '', 'Https': 'yes', 'Last Checked': '1 min ago'}, {'IP Address': '188.138.106.143', 'Port': '5566', 'Code': 'FR', 'Country': 'France', 'Anonymity': 'elite proxy', 'Google': 'no', 'Https': 'yes', 'Last Checked': '1 min ago'}, {'IP Address': '222.117.139.202', 'Port': '3128', 'Code': 'KR', 'Country': 'Korea', 'Anonymity': 'anonymous', 'Google': '', 'Https': 'yes', 'Last Checked': '1 min ago'}, {'IP Address': '5.181.171.171', 'Port': '8085', 'Code': 'RU', 'Country': 'Russian Federation', 'Anonymity': 'elite proxy', 'Google': '', 'Https': 'yes', 'Last Checked': '1 min ago'}, {'IP Address': '37.61.222.172', 'Port': '1080', 'Code': 'DE', 'Country': 'Germany', 'Anonymity': 'elite proxy', 'Google': 'no', 'Https': 'yes', 'Last Checked': '1 min ago'}, {'IP Address': '183.88.17.62', 'Port': '8080', 'Code': 'TH', 'Country': 'Thailand', 'Anonymity': 'anonymous', 'Google': 'yes', 'Https': 'yes', 'Last Checked': '3 mins ago'}, {'IP Address': '118.70.12.171', 'Port': '53281', 'Code': 'VN', 'Country': 'Vietnam', 'Anonymity': 'elite proxy', 'Google': 'no', 'Https': 'yes', 'Last Checked': '4 mins ago'}, {'IP Address': '198.167.196.124', 'Port': '3128', 'Code': 'SE', 'Country': 'Sweden', 'Anonymity': 'anonymous', 'Google': '', 'Https': 'yes', 'Last Checked': '4 mins ago'}, {'IP Address': '141.98.86.49', 'Port': '8085', 'Code': 'RU', 'Country': 'Russian Federation', 'Anonymity': 'elite proxy', 'Google': 'no', 'Https': 'yes', 'Last Checked': '4 mins ago'}, {'IP Address': '85.25.133.28', 'Port': '5566', 'Code': 'FR', 'Country': 'France', 'Anonymity': 'elite proxy', 'Google': '', 'Https': 'yes', 'Last Checked': '4 mins ago'}, {'IP Address': '188.138.89.29', 'Port': '5566', 'Code': 'FR', 'Country': 'France', 'Anonymity': 'elite proxy', 'Google': 'no', 'Https': 'yes', 'Last Checked': '4 mins ago'}, {'IP Address': '5.181.171.133', 'Port': '8085', 'Code': 'RU', 'Country': 'Russian Federation', 'Anonymity': 'elite proxy', 'Google': 'no', 'Https': 'yes', 'Last Checked': '4 mins ago'}, {'IP Address': '169.57.1.85', 'Port': '8123', 'Code': 'MX', 'Country': 'Mexico', 'Anonymity': 'elite proxy', 'Google': 'no', 'Https': 'yes', 'Last Checked': '4 mins ago'}, {'IP Address': '205.144.61.92', 'Port': '80', 'Code': 'US', 'Country': 'United States', 'Anonymity': 'anonymous', 'Google': 'no', 'Https': 'yes', 'Last Checked': '4 mins ago'}, {'IP Address': '202.136.165.22', 'Port': '80', 'Code': 'SG', 'Country': 'Singapore', 'Anonymity': 'anonymous', 'Google': 'yes', 'Https': 'yes', 'Last Checked': '4 mins ago'}, {'IP Address': '51.159.3.223', 'Port': '443', 'Code': 'FR', 'Country': 'France', 'Anonymity': 'elite proxy', 'Google': 'no', 'Https': 'yes', 'Last Checked': '4 mins ago'}, {'IP Address': '177.91.98.252', 'Port': '8080', 'Code': 'BR', 'Country': 'Brazil', 'Anonymity': 'elite proxy', 'Google': 'no', 'Https': 'yes', 'Last Checked': '4 mins ago'}, {'IP Address': '135.125.4.232', 'Port': '9090', 'Code': 'FR', 'Country': 'France', 'Anonymity': 'anonymous', 'Google': 'no', 'Https': 'yes', 'Last Checked': '5 mins ago'}, {'IP Address': '147.135.134.57', 'Port': '5566', 'Code': 'FR', 'Country': 'France', 'Anonymity': 'elite proxy', 'Google': 'no', 'Https': 'yes', 'Last Checked': '5 mins ago'}, {'IP Address': '85.172.19.214', 'Port': '8080', 'Code': 'RU', 'Country': 'Russian Federation', 'Anonymity': 'elite proxy', 'Google': 'no', 'Https': 'yes', 'Last Checked': '5 mins ago'}, {'IP Address': '5.181.171.145', 'Port': '8085', 'Code': 'RU', 'Country': 'Russian Federation', 'Anonymity': 'elite proxy', 'Google': 'no', 'Https': 'yes', 'Last Checked': '6 mins ago'}, {'IP Address': '188.138.90.226', 'Port': '5566', 'Code': 'FR', 'Country': 'France', 'Anonymity': 'elite proxy', 'Google': 'no', 'Https': 'yes', 'Last Checked': '6 mins ago'}, {'IP Address': '185.74.7.51', 'Port': '3128', 'Code': 'UZ', 'Country': 'Uzbekistan', 'Anonymity': 'elite proxy', 'Google': 'no', 'Https': 'yes', 'Last Checked': '6 mins ago'}, {'IP Address': '52.169.143.106', 'Port': '8080', 'Code': 'IE', 'Country': 'Ireland', 'Anonymity': 'elite proxy', 'Google': 'no', 'Https': 'yes', 'Last Checked': '6 mins ago'}, {'IP Address': '47.74.226.8', 'Port': '5001', 'Code': 'SG', 'Country': 'Singapore', 'Anonymity': 'anonymous', 'Google': 'no', 'Https': 'yes', 'Last Checked': '6 mins ago'}, {'IP Address': '175.197.116.163', 'Port': '59394', 'Code': 'KR', 'Country': 'Korea', 'Anonymity': 'elite proxy', 'Google': 'no', 'Https': 'yes', 'Last Checked': '6 mins ago'}, {'IP Address': '202.69.45.22', 'Port': '8080', 'Code': 'PK', 'Country': 'Pakistan', 'Anonymity': 'elite proxy', 'Google': '', 'Https': 'yes', 'Last Checked': '11 mins ago'}, {'IP Address': '123.231.221.242', 'Port': '6969', 'Code': 'ID', 'Country': 'Indonesia', 'Anonymity': 'elite proxy', 'Google': '', 'Https': 'yes', 'Last Checked': '11 mins ago'}, {'IP Address': '103.156.128.245', 'Port': '8080', 'Code': 'ID', 'Country': 'Indonesia', 'Anonymity': 'anonymous', 'Google': '', 'Https': 'yes', 'Last Checked': '11 mins ago'}, {'IP Address': '144.217.75.65', 'Port': '8800', 'Code': 'CA', 'Country': 'Canada', 'Anonymity': 'elite proxy', 'Google': '', 'Https': 'yes', 'Last Checked': '11 mins ago'}, {'IP Address': '141.98.86.24', 'Port': '8085', 'Code': 'RU', 'Country': 'Russian Federation', 'Anonymity': 'elite proxy', 'Google': 'no', 'Https': 'yes', 'Last Checked': '11 mins ago'}, {'IP Address': '197.232.65.40', 'Port': '55443', 'Code': 'KE', 'Country': 'Kenya', 'Anonymity': 'elite proxy', 'Google': '', 'Https': 'yes', 'Last Checked': '12 mins ago'}, {'IP Address': '217.103.108.63', 'Port': '80', 'Code': 'NL', 'Country': 'Netherlands', 'Anonymity': 'elite proxy', 'Google': 'no', 'Https': 'yes', 'Last Checked': '12 mins ago'}, {'IP Address': '173.249.57.9', 'Port': '443', 'Code': 'DE', 'Country': 'Germany', 'Anonymity': 'elite proxy', 'Google': '', 'Https': 'yes', 'Last Checked': '12 mins ago'}, {'IP Address': '182.23.79.162', 'Port': '39902', 'Code': 'ID', 'Country': 'Indonesia', 'Anonymity': 'elite proxy', 'Google': '', 'Https': 'yes', 'Last Checked': '12 mins ago'}, {'IP Address': '64.227.47.26', 'Port': '3128', 'Code': 'GB', 'Country': 'United Kingdom', 'Anonymity': 'elite proxy', 'Google': '', 'Https': 'yes', 'Last Checked': '12 mins ago'}, {'IP Address': '5.181.171.170', 'Port': '8085', 'Code': 'RU', 'Country': 'Russian Federation', 'Anonymity': 'elite proxy', 'Google': 'no', 'Https': 'yes', 'Last Checked': '12 mins ago'}, {'IP Address': '51.222.40.26', 'Port': '9090', 'Code': 'CA', 'Country': 'Canada', 'Anonymity': 'anonymous', 'Google': '', 'Https': 'yes', 'Last Checked': '12 mins ago'}, {'IP Address': '143.248.55.62', 'Port': '8118', 'Code': 'KR', 'Country': 'Korea', 'Anonymity': 'elite proxy', 'Google': '', 'Https': 'yes', 'Last Checked': '12 mins ago'}, {'IP Address': '201.184.145.58', 'Port': '999', 'Code': 'CO', 'Country': 'Colombia', 'Anonymity': 'elite proxy', 'Google': '', 'Https': 'yes', 'Last Checked': '12 mins ago'}, {'IP Address': '160.16.242.164', 'Port': '3128', 'Code': 'JP', 'Country': 'Japan', 'Anonymity': 'elite proxy', 'Google': 'no', 'Https': 'yes', 'Last Checked': '14 mins ago'}, {'IP Address': '43.224.10.22', 'Port': '6666', 'Code': 'IN', 'Country': 'India', 'Anonymity': 'elite proxy', 'Google': '', 'Https': 'yes', 'Last Checked': '14 mins ago'}, {'IP Address': '82.200.107.98', 'Port': '3128', 'Code': 'RU', 'Country': 'Russian Federation', 'Anonymity': 'elite proxy', 'Google': '', 'Https': 'yes', 'Last Checked': '14 mins ago'}, {'IP Address': '129.153.111.20', 'Port': '59394', 'Code': 'US', 'Country': 'United States', 'Anonymity': 'elite proxy', 'Google': '', 'Https': 'yes', 'Last Checked': '14 mins ago'}, {'IP Address': '133.167.121.133', 'Port': '1976', 'Code': 'JP', 'Country': 'Japan', 'Anonymity': 'elite proxy', 'Google': '', 'Https': 'yes', 'Last Checked': '14 mins ago'}, {'IP Address': '194.233.69.90', 'Port': '443', 'Code': 'SG', 'Country': 'Singapore', 'Anonymity': 'elite proxy', 'Google': '', 'Https': 'yes', 'Last Checked': '14 mins ago'}, {'IP Address': '178.216.24.80', 'Port': '55443', 'Code': 'PL', 'Country': 'Poland', 'Anonymity': 'elite proxy', 'Google': '', 'Https': 'yes', 'Last Checked': '14 mins ago'}, {'IP Address': '186.219.96.47', 'Port': '54570', 'Code': 'BR', 'Country': 'Brazil', 'Anonymity': 'elite proxy', 'Google': '', 'Https': 'yes', 'Last Checked': '14 mins ago'}, {'IP Address': '5.181.171.168', 'Port': '8085', 'Code': 'RU', 'Country': 'Russian Federation', 'Anonymity': 'elite proxy', 'Google': '', 'Https': 'yes', 'Last Checked': '14 mins ago'}, {'IP Address': '85.55.192.35', 'Port': '3128', 'Code': 'ES', 'Country': 'Spain', 'Anonymity': 'anonymous', 'Google': 'no', 'Https': 'yes', 'Last Checked': '14 mins ago'}, {'IP Address': '45.42.177.22', 'Port': '3128', 'Code': 'US', 'Country': 'United States', 'Anonymity': 'elite proxy', 'Google': 'no', 'Https': 'yes', 'Last Checked': '14 mins ago'}, {'IP Address': '185.182.222.178', 'Port': '8080', 'Code': 'IR', 'Country': 'Iran', 'Anonymity': 'anonymous', 'Google': 'no', 'Https': 'yes', 'Last Checked': '14 mins ago'}, {'IP Address': '103.250.156.24', 'Port': '6666', 'Code': 'IN', 'Country': 'India', 'Anonymity': 'elite proxy', 'Google': 'no', 'Https': 'yes', 'Last Checked': '14 mins ago'}, {'IP Address': '103.73.194.2', 'Port': '80', 'Code': 'HK', 'Country': 'Hong Kong', 'Anonymity': 'anonymous', 'Google': 'no', 'Https': 'yes', 'Last Checked': '20 mins ago'}, {'IP Address': '47.253.52.176', 'Port': '80', 'Code': 'US', 'Country': 'United States', 'Anonymity': 'anonymous', 'Google': 'no', 'Https': 'yes', 'Last Checked': '20 mins ago'}, {'IP Address': '190.100.95.229', 'Port': '3128', 'Code': 'CL', 'Country': 'Chile', 'Anonymity': 'elite proxy', 'Google': 'no', 'Https': 'yes', 'Last Checked': '20 mins ago'}, {'IP Address': '37.61.222.167', 'Port': '1080', 'Code': 'DE', 'Country': 'Germany', 'Anonymity': 'elite proxy', 'Google': '', 'Https': 'yes', 'Last Checked': '21 mins ago'}, {'IP Address': '101.51.106.70', 'Port': '49285', 'Code': 'TH', 'Country': 'Thailand', 'Anonymity': 'anonymous', 'Google': 'no', 'Https': 'yes', 'Last Checked': '23 mins ago'}, {'IP Address': '181.129.138.114', 'Port': '30838', 'Code': 'CO', 'Country': 'Colombia', 'Anonymity': 'anonymous', 'Google': 'no', 'Https': 'yes', 'Last Checked': '23 mins ago'}, {'IP Address': '176.36.20.67', 'Port': '61935', 'Code': 'UA', 'Country': 'Ukraine', 'Anonymity': 'anonymous', 'Google': 'no', 'Https': 'yes', 'Last Checked': '23 mins ago'}, {'IP Address': '85.25.91.161', 'Port': '5566', 'Code': 'DE', 'Country': 'Germany', 'Anonymity': 'anonymous', 'Google': 'no', 'Https': 'yes', 'Last Checked': '23 mins ago'}, {'IP Address': '89.171.41.90', 'Port': '6969', 'Code': 'PL', 'Country': 'Poland', 'Anonymity': 'anonymous', 'Google': 'no', 'Https': 'yes', 'Last Checked': '23 mins ago'}, {'IP Address': '207.180.192.43', 'Port': '8118', 'Code': 'DE', 'Country': 'Germany', 'Anonymity': 'anonymous', 'Google': 'no', 'Https': 'yes', 'Last Checked': '23 mins ago'}, {'IP Address': '85.195.86.227', 'Port': '1080', 'Code': 'DE', 'Country': 'Germany', 'Anonymity': 'elite proxy', 'Google': 'no', 'Https': 'yes', 'Last Checked': '50 mins ago'}, {'IP Address': '41.186.44.106', 'Port': '3128', 'Code': 'RW', 'Country': 'Rwanda', 'Anonymity': 'elite proxy', 'Google': 'no', 'Https': 'yes', 'Last Checked': '51 mins ago'}, {'IP Address': '150.242.182.98', 'Port': '80', 'Code': 'MY', 'Country': 'Malaysia', 'Anonymity': 'anonymous', 'Google': 'no', 'Https': 'yes', 'Last Checked': '51 mins ago'}, {'IP Address': '194.233.69.38', 'Port': '443', 'Code': 'SG', 'Country': 'Singapore', 'Anonymity': 'elite proxy', 'Google': 'no', 'Https': 'yes', 'Last Checked': '51 mins ago'}, {'IP Address': '20.194.21.114', 'Port': '59394', 'Code': 'KR', 'Country': 'Korea', 'Anonymity': 'elite proxy', 'Google': 'no', 'Https': 'yes', 'Last Checked': '51 mins ago'}, {'IP Address': '103.208.200.115', 'Port': '23500', 'Code': 'IN', 'Country': 'India', 'Anonymity': 'elite proxy', 'Google': 'no', 'Https': 'yes', 'Last Checked': '1 hour 1 min ago'}, {'IP Address': '190.214.52.226', 'Port': '53281', 'Code': 'EC', 'Country': 'Ecuador', 'Anonymity': 'elite proxy', 'Google': 'no', 'Https': 'yes', 'Last Checked': '1 hour 1 min ago'}, {'IP Address': '8.214.41.50', 'Port': '80', 'Code': 'SG', 'Country': 'Singapore', 'Anonymity': 'anonymous', 'Google': 'no', 'Https': 'yes', 'Last Checked': '1 hour 1 min ago'}, {'IP Address': '77.50.104.110', 'Port': '3128', 'Code': 'RU', 'Country': 'Russian Federation', 'Anonymity': 'elite proxy', 'Google': 'no', 'Https': 'yes', 'Last Checked': '1 hour 11 mins ago'}, {'IP Address': '41.65.174.120', 'Port': '1981', 'Code': 'EG', 'Country': 'Egypt', 'Anonymity': 'anonymous', 'Google': 'no', 'Https': 'yes', 'Last Checked': '1 hour 11 mins ago'}, {'IP Address': '91.107.15.221', 'Port': '53281', 'Code': 'RU', 'Country': 'Russian Federation', 'Anonymity': 'elite proxy', 'Google': 'no', 'Https': 'yes', 'Last Checked': '1 hour 21 mins ago'}, {'IP Address': '115.75.1.184', 'Port': '8118', 'Code': 'VN', 'Country': 'Vietnam', 'Anonymity': 'anonymous', 'Google': '', 'Https': 'yes', 'Last Checked': '1 hour 31 mins ago'}, {'IP Address': '170.155.5.235', 'Port': '8080', 'Code': 'AR', 'Country': 'Argentina', 'Anonymity': 'anonymous', 'Google': 'no', 'Https': 'yes', 'Last Checked': '1 hour 32 mins ago'}, {'IP Address': '209.146.19.61', 'Port': '55443', 'Code': 'PH', 'Country': 'Philippines', 'Anonymity': 'elite proxy', 'Google': 'no', 'Https': 'yes', 'Last Checked': '1 hour 40 mins ago'}, {'IP Address': '43.154.43.148', 'Port': '8118', 'Code': 'HK', 'Country': 'Hong Kong', 'Anonymity': 'anonymous', 'Google': 'no', 'Https': 'yes', 'Last Checked': '1 hour 41 mins ago'}, {'IP Address': '176.222.63.241', 'Port': '8080', 'Code': 'IQ', 'Country': 'Iraq', 'Anonymity': 'anonymous', 'Google': 'no', 'Https': 'yes', 'Last Checked': '1 hour 41 mins ago'}, {'IP Address': '185.88.37.169', 'Port': '8085', 'Code': 'IL', 'Country': 'Israel', 'Anonymity': 'anonymous', 'Google': 'no', 'Https': 'yes', 'Last Checked': '1 hour 41 mins ago'}, {'IP Address': '178.136.2.208', 'Port': '55443', 'Code': 'UA', 'Country': 'Ukraine', 'Anonymity': 'elite proxy', 'Google': 'no', 'Https': 'yes', 'Last Checked': '2 hours ago'}, {'IP Address': '46.246.82.21', 'Port': '8888', 'Code': 'SE', 'Country': 'Sweden', 'Anonymity': 'anonymous', 'Google': '', 'Https': 'yes', 'Last Checked': '2 hours ago'}, {'IP Address': '83.151.4.172', 'Port': '57812', 'Code': 'RU', 'Country': 'Russian Federation', 'Anonymity': 'anonymous', 'Google': '', 'Https': 'yes', 'Last Checked': '2 hours ago'}, {'IP Address': '47.117.68.109', 'Port': '22', 'Code': 'CN', 'Country': 'China', 'Anonymity': 'anonymous', 'Google': '', 'Https': 'yes', 'Last Checked': '2 hours ago'}, {'IP Address': '94.228.204.229', 'Port': '41890', 'Code': 'RU', 'Country': 'Russian Federation', 'Anonymity': 'anonymous', 'Google': '', 'Https': 'yes', 'Last Checked': '2 hours ago'}, {'IP Address': '43.129.223.147', 'Port': '38080', 'Code': 'HK', 'Country': 'Hong Kong', 'Anonymity': 'anonymous', 'Google': '', 'Https': 'yes', 'Last Checked': '2 hours ago'}, {'IP Address': '103.107.92.1', 'Port': '52827', 'Code': 'IN', 'Country': 'India', 'Anonymity': 'anonymous', 'Google': '', 'Https': 'yes', 'Last Checked': '2 hours ago'}, {'IP Address': '185.134.29.31', 'Port': '8080', 'Code': 'DK', 'Country': 'Denmark', 'Anonymity': 'elite proxy', 'Google': 'yes', 'Https': 'yes', 'Last Checked': '2 hours 1 min ago'}, {'IP Address': '91.231.233.124', 'Port': '11712', 'Code': 'RU', 'Country': 'Russian Federation', 'Anonymity': 'elite proxy', 'Google': 'no', 'Https': 'yes', 'Last Checked': '2 hours 1 min ago'}, {'IP Address': '216.176.187.99', 'Port': '39825', 'Code': 'US', 'Country': 'United States', 'Anonymity': 'elite proxy', 'Google': 'no', 'Https': 'yes', 'Last Checked': '2 hours 1 min ago'}, {'IP Address': '185.88.37.185', 'Port': '8085', 'Code': 'IL', 'Country': 'Israel', 'Anonymity': 'elite proxy', 'Google': 'no', 'Https': 'yes', 'Last Checked': '2 hours 1 min ago'}, {'IP Address': '194.233.69.126', 'Port': '443', 'Code': 'SG', 'Country': 'Singapore', 'Anonymity': 'elite proxy', 'Google': 'no', 'Https': 'yes', 'Last Checked': '2 hours 1 min ago'}, {'IP Address': '141.98.86.32', 'Port': '8085', 'Code': 'RU', 'Country': 'Russian Federation', 'Anonymity': 'elite proxy', 'Google': 'no', 'Https': 'yes', 'Last Checked': '2 hours 2 mins ago'}, {'IP Address': '154.79.242.178', 'Port': '1686', 'Code': 'KE', 'Country': 'Kenya', 'Anonymity': 'elite proxy', 'Google': 'no', 'Https': 'yes', 'Last Checked': '2 hours 2 mins ago'}]\n"
   ]
  },
  {
   "cell_type": "code",
   "execution_count": 3,
   "metadata": {},
   "outputs": [],
   "source": [
    "US_PROXIES = [dictionary for dictionary in proxies if dictionary['Country'] == 'United States']"
   ]
  },
  {
   "cell_type": "code",
   "execution_count": 8,
   "metadata": {},
   "outputs": [
    {
     "name": "stdout",
     "output_type": "stream",
     "text": [
      "216.176.187.99:39825\n"
     ]
    }
   ],
   "source": [
    "if US_PROXIES:\n",
    "    from random import randint\n",
    "    index = randint(0,len(US_PROXIES)-1)\n",
    "    proxy_str = US_PROXIES[index]['IP Address'] + ':' + US_PROXIES[index]['Port']\n",
    "    print(proxy_str)\n"
   ]
  },
  {
   "cell_type": "code",
   "execution_count": 5,
   "metadata": {},
   "outputs": [
    {
     "data": {
      "text/plain": [
       "[{'IP Address': '20.88.122.67',\n",
       "  'Port': '8080',\n",
       "  'Code': 'US',\n",
       "  'Country': 'United States',\n",
       "  'Anonymity': 'anonymous',\n",
       "  'Google': 'no',\n",
       "  'Https': 'yes',\n",
       "  'Last Checked': '9 secs ago'},\n",
       " {'IP Address': '205.144.61.92',\n",
       "  'Port': '80',\n",
       "  'Code': 'US',\n",
       "  'Country': 'United States',\n",
       "  'Anonymity': 'anonymous',\n",
       "  'Google': 'no',\n",
       "  'Https': 'yes',\n",
       "  'Last Checked': '4 mins ago'},\n",
       " {'IP Address': '129.153.111.20',\n",
       "  'Port': '59394',\n",
       "  'Code': 'US',\n",
       "  'Country': 'United States',\n",
       "  'Anonymity': 'elite proxy',\n",
       "  'Google': '',\n",
       "  'Https': 'yes',\n",
       "  'Last Checked': '14 mins ago'},\n",
       " {'IP Address': '45.42.177.22',\n",
       "  'Port': '3128',\n",
       "  'Code': 'US',\n",
       "  'Country': 'United States',\n",
       "  'Anonymity': 'elite proxy',\n",
       "  'Google': 'no',\n",
       "  'Https': 'yes',\n",
       "  'Last Checked': '14 mins ago'},\n",
       " {'IP Address': '47.253.52.176',\n",
       "  'Port': '80',\n",
       "  'Code': 'US',\n",
       "  'Country': 'United States',\n",
       "  'Anonymity': 'anonymous',\n",
       "  'Google': 'no',\n",
       "  'Https': 'yes',\n",
       "  'Last Checked': '20 mins ago'},\n",
       " {'IP Address': '216.176.187.99',\n",
       "  'Port': '39825',\n",
       "  'Code': 'US',\n",
       "  'Country': 'United States',\n",
       "  'Anonymity': 'elite proxy',\n",
       "  'Google': 'no',\n",
       "  'Https': 'yes',\n",
       "  'Last Checked': '2 hours 1 min ago'}]"
      ]
     },
     "execution_count": 5,
     "metadata": {},
     "output_type": "execute_result"
    }
   ],
   "source": [
    "US_PROXIES"
   ]
  },
  {
   "cell_type": "code",
   "execution_count": 6,
   "metadata": {},
   "outputs": [],
   "source": [
    "russian_proxies = []"
   ]
  },
  {
   "cell_type": "code",
   "execution_count": 9,
   "metadata": {},
   "outputs": [
    {
     "name": "stdout",
     "output_type": "stream",
     "text": [
      "nope\n",
      "yep\n"
     ]
    }
   ],
   "source": [
    "a = -1\n",
    "b = '12131342:1213'\n",
    "\n",
    "if a:\n",
    "    print('nope')\n",
    "if b:\n",
    "    print('yep')"
   ]
  },
  {
   "cell_type": "code",
   "execution_count": 11,
   "metadata": {},
   "outputs": [
    {
     "data": {
      "text/plain": [
       "True"
      ]
     },
     "execution_count": 11,
     "metadata": {},
     "output_type": "execute_result"
    }
   ],
   "source": [
    "type('sta') == str"
   ]
  },
  {
   "cell_type": "code",
   "execution_count": null,
   "metadata": {},
   "outputs": [],
   "source": []
  }
 ],
 "metadata": {
  "interpreter": {
   "hash": "b2bd7ecc7061f04a45fc9f55938f43bc00a859b866a172f01cd7842b274dc8f6"
  },
  "kernelspec": {
   "display_name": "Python 3.8.8 ('base')",
   "language": "python",
   "name": "python3"
  },
  "language_info": {
   "codemirror_mode": {
    "name": "ipython",
    "version": 3
   },
   "file_extension": ".py",
   "mimetype": "text/x-python",
   "name": "python",
   "nbconvert_exporter": "python",
   "pygments_lexer": "ipython3",
   "version": "3.8.8"
  },
  "orig_nbformat": 4
 },
 "nbformat": 4,
 "nbformat_minor": 2
}
